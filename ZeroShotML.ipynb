{
  "nbformat": 4,
  "nbformat_minor": 0,
  "metadata": {
    "colab": {
      "name": "ZeroShotML.ipynb",
      "provenance": [],
      "authorship_tag": "ABX9TyNCdxb6FnelsRuGUIs/i49h",
      "include_colab_link": true
    },
    "kernelspec": {
      "name": "python3",
      "display_name": "Python 3"
    },
    "language_info": {
      "name": "python"
    }
  },
  "cells": [
    {
      "cell_type": "markdown",
      "metadata": {
        "id": "view-in-github",
        "colab_type": "text"
      },
      "source": [
        "<a href=\"https://colab.research.google.com/github/Abhishek4848/ZeroShotML/blob/main/ZeroShotML.ipynb\" target=\"_parent\"><img src=\"https://colab.research.google.com/assets/colab-badge.svg\" alt=\"Open In Colab\"/></a>"
      ]
    },
    {
      "cell_type": "code",
      "execution_count": null,
      "metadata": {
        "colab": {
          "base_uri": "https://localhost:8080/"
        },
        "id": "_vAKYx1ZUhOW",
        "outputId": "43405c37-619c-4f92-c446-b16b992a2196"
      },
      "outputs": [
        {
          "output_type": "stream",
          "name": "stdout",
          "text": [
            "Looking in indexes: https://pypi.org/simple, https://us-python.pkg.dev/colab-wheels/public/simple/\n",
            "Requirement already satisfied: transformers in /usr/local/lib/python3.7/dist-packages (4.20.1)\n",
            "Requirement already satisfied: filelock in /usr/local/lib/python3.7/dist-packages (from transformers) (3.7.1)\n",
            "Requirement already satisfied: numpy>=1.17 in /usr/local/lib/python3.7/dist-packages (from transformers) (1.21.6)\n",
            "Requirement already satisfied: huggingface-hub<1.0,>=0.1.0 in /usr/local/lib/python3.7/dist-packages (from transformers) (0.8.1)\n",
            "Requirement already satisfied: pyyaml>=5.1 in /usr/local/lib/python3.7/dist-packages (from transformers) (6.0)\n",
            "Requirement already satisfied: packaging>=20.0 in /usr/local/lib/python3.7/dist-packages (from transformers) (21.3)\n",
            "Requirement already satisfied: importlib-metadata in /usr/local/lib/python3.7/dist-packages (from transformers) (3.10.1)\n",
            "Requirement already satisfied: requests in /usr/local/lib/python3.7/dist-packages (from transformers) (2.28.1)\n",
            "Requirement already satisfied: tqdm>=4.27 in /usr/local/lib/python3.7/dist-packages (from transformers) (4.64.0)\n",
            "Requirement already satisfied: tokenizers!=0.11.3,<0.13,>=0.11.1 in /usr/local/lib/python3.7/dist-packages (from transformers) (0.12.1)\n",
            "Requirement already satisfied: regex!=2019.12.17 in /usr/local/lib/python3.7/dist-packages (from transformers) (2022.6.2)\n",
            "Requirement already satisfied: typing-extensions>=3.7.4.3 in /usr/local/lib/python3.7/dist-packages (from huggingface-hub<1.0,>=0.1.0->transformers) (4.1.1)\n",
            "Requirement already satisfied: pyparsing!=3.0.5,>=2.0.2 in /usr/local/lib/python3.7/dist-packages (from packaging>=20.0->transformers) (3.0.9)\n",
            "Requirement already satisfied: zipp>=0.5 in /usr/local/lib/python3.7/dist-packages (from importlib-metadata->transformers) (3.8.0)\n",
            "Requirement already satisfied: certifi>=2017.4.17 in /usr/local/lib/python3.7/dist-packages (from requests->transformers) (2022.6.15)\n",
            "Requirement already satisfied: idna<4,>=2.5 in /usr/local/lib/python3.7/dist-packages (from requests->transformers) (2.10)\n",
            "Requirement already satisfied: charset-normalizer<3,>=2 in /usr/local/lib/python3.7/dist-packages (from requests->transformers) (2.0.12)\n",
            "Requirement already satisfied: urllib3<1.27,>=1.21.1 in /usr/local/lib/python3.7/dist-packages (from requests->transformers) (1.24.3)\n"
          ]
        }
      ],
      "source": [
        "!pip install transformers\n",
        "from transformers import pipeline\n",
        "import torch"
      ]
    },
    {
      "cell_type": "markdown",
      "source": [
        "### Sentiment analysis"
      ],
      "metadata": {
        "id": "V_JRTUtRVKY2"
      }
    },
    {
      "cell_type": "code",
      "source": [
        "classifier1 = pipeline(\"sentiment-analysis\")\n",
        "res = classifier1(\"Hello world\")\n",
        "print (res)"
      ],
      "metadata": {
        "colab": {
          "base_uri": "https://localhost:8080/"
        },
        "id": "4Jqg5pAjUopR",
        "outputId": "602ead97-c458-4166-a7a9-c17b87a69b77"
      },
      "execution_count": null,
      "outputs": [
        {
          "output_type": "stream",
          "name": "stderr",
          "text": [
            "No model was supplied, defaulted to distilbert-base-uncased-finetuned-sst-2-english (https://huggingface.co/distilbert-base-uncased-finetuned-sst-2-english)\n"
          ]
        },
        {
          "output_type": "stream",
          "name": "stdout",
          "text": [
            "[{'label': 'POSITIVE', 'score': 0.9997522234916687}]\n"
          ]
        }
      ]
    },
    {
      "cell_type": "markdown",
      "source": [
        "### Zero shot ML - Text Classification"
      ],
      "metadata": {
        "id": "_1i5cKXmVOED"
      }
    },
    {
      "cell_type": "markdown",
      "source": [
        "News Classification"
      ],
      "metadata": {
        "id": "qIuFs-qdFiVk"
      }
    },
    {
      "cell_type": "code",
      "source": [
        "from transformers import AutoTokenizer, AutoModelForSequenceClassification"
      ],
      "metadata": {
        "id": "Iiq9-8AMKmMQ"
      },
      "execution_count": null,
      "outputs": []
    },
    {
      "cell_type": "code",
      "source": [
        "text= \"Facebook-parent Meta has sued Turkey-based individual, Ekrem Ateş, for using automated Instagram accounts to scrape data from the profiles of over 3.5 lakh Instagram users. The individual later published that data on a series of clone sites. Meta has also sued Octopus, a US subsidiary of a Chinese firm, that offers data scraping-for-hire services to individuals and companies.\"\n",
        "labels = [\"Business\", \"Sports\", \"Politics\", \"Technology\"]\n",
        "tokenizer = AutoTokenizer.from_pretrained(\"distilbert-base-uncased-finetuned-sst-2-english\")\n",
        "tokens = tokenizer.tokenize(text)\n",
        "token_ids = tokenizer.convert_tokens_to_ids(tokens)\n",
        "print(tokens)\n",
        "print(token_ids)"
      ],
      "metadata": {
        "id": "F_q2aHla5sJE",
        "colab": {
          "base_uri": "https://localhost:8080/"
        },
        "outputId": "e5da8a14-06dc-4c1f-a25a-57285f8e4693"
      },
      "execution_count": null,
      "outputs": [
        {
          "output_type": "stream",
          "name": "stdout",
          "text": [
            "['facebook', '-', 'parent', 'meta', 'has', 'sued', 'turkey', '-', 'based', 'individual', ',', 'ek', '##rem', 'ate', '##s', ',', 'for', 'using', 'automated', 'ins', '##tagram', 'accounts', 'to', 'scrape', 'data', 'from', 'the', 'profiles', 'of', 'over', '3', '.', '5', 'la', '##kh', 'ins', '##tagram', 'users', '.', 'the', 'individual', 'later', 'published', 'that', 'data', 'on', 'a', 'series', 'of', 'clone', 'sites', '.', 'meta', 'has', 'also', 'sued', 'octopus', ',', 'a', 'us', 'subsidiary', 'of', 'a', 'chinese', 'firm', ',', 'that', 'offers', 'data', 'scraping', '-', 'for', '-', 'hire', 'services', 'to', 'individuals', 'and', 'companies', '.']\n",
            "[9130, 1011, 6687, 18804, 2038, 12923, 4977, 1011, 2241, 3265, 1010, 23969, 28578, 8823, 2015, 1010, 2005, 2478, 12978, 16021, 23091, 6115, 2000, 26988, 2951, 2013, 1996, 17879, 1997, 2058, 1017, 1012, 1019, 2474, 10023, 16021, 23091, 5198, 1012, 1996, 3265, 2101, 2405, 2008, 2951, 2006, 1037, 2186, 1997, 17598, 4573, 1012, 18804, 2038, 2036, 12923, 24318, 1010, 1037, 2149, 7506, 1997, 1037, 2822, 3813, 1010, 2008, 4107, 2951, 23704, 1011, 2005, 1011, 10887, 2578, 2000, 3633, 1998, 3316, 1012]\n"
          ]
        }
      ]
    },
    {
      "cell_type": "code",
      "source": [
        "classifier2 = pipeline(\"zero-shot-classification\", model=\"facebook/bart-large-mnli\")\n",
        "res2 = classifier2(text, labels)\n",
        "res2"
      ],
      "metadata": {
        "colab": {
          "base_uri": "https://localhost:8080/"
        },
        "id": "cj9gHGfiVCbD",
        "outputId": "a10b19e1-5cfa-4fa2-a6e4-785bc6848e48"
      },
      "execution_count": null,
      "outputs": [
        {
          "output_type": "execute_result",
          "data": {
            "text/plain": [
              "{'labels': ['Technology', 'Business', 'Politics', 'Sports'],\n",
              " 'scores': [0.4309980273246765,\n",
              "  0.3726717233657837,\n",
              "  0.11859836429357529,\n",
              "  0.07773187011480331],\n",
              " 'sequence': 'Facebook-parent Meta has sued Turkey-based individual, Ekrem Ateş, for using automated Instagram accounts to scrape data from the profiles of over 3.5 lakh Instagram users. The individual later published that data on a series of clone sites. Meta has also sued Octopus, a US subsidiary of a Chinese firm, that offers data scraping-for-hire services to individuals and companies.'}"
            ]
          },
          "metadata": {},
          "execution_count": 57
        }
      ]
    },
    {
      "cell_type": "code",
      "source": [
        "classifier3 = pipeline(\"zero-shot-classification\",model=\"cross-encoder/nli-distilroberta-base\")\n",
        "res3 = classifier3(text, labels)\n",
        "res3"
      ],
      "metadata": {
        "colab": {
          "base_uri": "https://localhost:8080/"
        },
        "id": "Di3zjf_KVH_g",
        "outputId": "410b3453-80f1-4e9e-f9b7-5a8f186c96f2"
      },
      "execution_count": null,
      "outputs": [
        {
          "output_type": "execute_result",
          "data": {
            "text/plain": [
              "{'labels': ['Technology', 'Business', 'Sports', 'Politics'],\n",
              " 'scores': [0.46189379692077637,\n",
              "  0.26921308040618896,\n",
              "  0.1429949402809143,\n",
              "  0.12589816749095917],\n",
              " 'sequence': 'Facebook-parent Meta has sued Turkey-based individual, Ekrem Ateş, for using automated Instagram accounts to scrape data from the profiles of over 3.5 lakh Instagram users. The individual later published that data on a series of clone sites. Meta has also sued Octopus, a US subsidiary of a Chinese firm, that offers data scraping-for-hire services to individuals and companies.'}"
            ]
          },
          "metadata": {},
          "execution_count": 58
        }
      ]
    },
    {
      "cell_type": "code",
      "source": [
        "from transformers import AutoModelForSequenceClassification, AutoTokenizer, pipeline\n",
        "bart_model = AutoModelForSequenceClassification.from_pretrained(\"navteca/bart-large-mnli\")\n",
        "bart_tokenizer = AutoTokenizer.from_pretrained(\"navteca/bart-large-mnli\")\n",
        "classifier4 = pipeline(\"zero-shot-classification\", model=bart_model, tokenizer=bart_tokenizer)\n",
        "res4 = classifier4(text,labels)\n",
        "res4"
      ],
      "metadata": {
        "colab": {
          "base_uri": "https://localhost:8080/"
        },
        "id": "YW0l5IY3WjQP",
        "outputId": "d71fd36f-5502-4550-95e6-077a7882cbef"
      },
      "execution_count": null,
      "outputs": [
        {
          "output_type": "execute_result",
          "data": {
            "text/plain": [
              "{'labels': ['Technology', 'Business', 'Politics', 'Sports'],\n",
              " 'scores': [0.4309980273246765,\n",
              "  0.3726717233657837,\n",
              "  0.11859836429357529,\n",
              "  0.07773187011480331],\n",
              " 'sequence': 'Facebook-parent Meta has sued Turkey-based individual, Ekrem Ateş, for using automated Instagram accounts to scrape data from the profiles of over 3.5 lakh Instagram users. The individual later published that data on a series of clone sites. Meta has also sued Octopus, a US subsidiary of a Chinese firm, that offers data scraping-for-hire services to individuals and companies.'}"
            ]
          },
          "metadata": {},
          "execution_count": 59
        }
      ]
    },
    {
      "cell_type": "markdown",
      "source": [
        "##Comparing the different models"
      ],
      "metadata": {
        "id": "dcj9xgajZpVu"
      }
    },
    {
      "cell_type": "code",
      "source": [
        "import pandas as pd\n",
        "df = pd.DataFrame(res2)\n",
        "df"
      ],
      "metadata": {
        "colab": {
          "base_uri": "https://localhost:8080/",
          "height": 175
        },
        "id": "3Cg8Em9bYmnc",
        "outputId": "55f0aab3-a65c-40ea-a0fc-844e341820a3"
      },
      "execution_count": null,
      "outputs": [
        {
          "output_type": "execute_result",
          "data": {
            "text/plain": [
              "                                            sequence      labels    scores\n",
              "0  Facebook-parent Meta has sued Turkey-based ind...  Technology  0.430998\n",
              "1  Facebook-parent Meta has sued Turkey-based ind...    Business  0.372672\n",
              "2  Facebook-parent Meta has sued Turkey-based ind...    Politics  0.118598\n",
              "3  Facebook-parent Meta has sued Turkey-based ind...      Sports  0.077732"
            ],
            "text/html": [
              "\n",
              "  <div id=\"df-f277ae4a-8497-4a7e-aa09-e148515654a5\">\n",
              "    <div class=\"colab-df-container\">\n",
              "      <div>\n",
              "<style scoped>\n",
              "    .dataframe tbody tr th:only-of-type {\n",
              "        vertical-align: middle;\n",
              "    }\n",
              "\n",
              "    .dataframe tbody tr th {\n",
              "        vertical-align: top;\n",
              "    }\n",
              "\n",
              "    .dataframe thead th {\n",
              "        text-align: right;\n",
              "    }\n",
              "</style>\n",
              "<table border=\"1\" class=\"dataframe\">\n",
              "  <thead>\n",
              "    <tr style=\"text-align: right;\">\n",
              "      <th></th>\n",
              "      <th>sequence</th>\n",
              "      <th>labels</th>\n",
              "      <th>scores</th>\n",
              "    </tr>\n",
              "  </thead>\n",
              "  <tbody>\n",
              "    <tr>\n",
              "      <th>0</th>\n",
              "      <td>Facebook-parent Meta has sued Turkey-based ind...</td>\n",
              "      <td>Technology</td>\n",
              "      <td>0.430998</td>\n",
              "    </tr>\n",
              "    <tr>\n",
              "      <th>1</th>\n",
              "      <td>Facebook-parent Meta has sued Turkey-based ind...</td>\n",
              "      <td>Business</td>\n",
              "      <td>0.372672</td>\n",
              "    </tr>\n",
              "    <tr>\n",
              "      <th>2</th>\n",
              "      <td>Facebook-parent Meta has sued Turkey-based ind...</td>\n",
              "      <td>Politics</td>\n",
              "      <td>0.118598</td>\n",
              "    </tr>\n",
              "    <tr>\n",
              "      <th>3</th>\n",
              "      <td>Facebook-parent Meta has sued Turkey-based ind...</td>\n",
              "      <td>Sports</td>\n",
              "      <td>0.077732</td>\n",
              "    </tr>\n",
              "  </tbody>\n",
              "</table>\n",
              "</div>\n",
              "      <button class=\"colab-df-convert\" onclick=\"convertToInteractive('df-f277ae4a-8497-4a7e-aa09-e148515654a5')\"\n",
              "              title=\"Convert this dataframe to an interactive table.\"\n",
              "              style=\"display:none;\">\n",
              "        \n",
              "  <svg xmlns=\"http://www.w3.org/2000/svg\" height=\"24px\"viewBox=\"0 0 24 24\"\n",
              "       width=\"24px\">\n",
              "    <path d=\"M0 0h24v24H0V0z\" fill=\"none\"/>\n",
              "    <path d=\"M18.56 5.44l.94 2.06.94-2.06 2.06-.94-2.06-.94-.94-2.06-.94 2.06-2.06.94zm-11 1L8.5 8.5l.94-2.06 2.06-.94-2.06-.94L8.5 2.5l-.94 2.06-2.06.94zm10 10l.94 2.06.94-2.06 2.06-.94-2.06-.94-.94-2.06-.94 2.06-2.06.94z\"/><path d=\"M17.41 7.96l-1.37-1.37c-.4-.4-.92-.59-1.43-.59-.52 0-1.04.2-1.43.59L10.3 9.45l-7.72 7.72c-.78.78-.78 2.05 0 2.83L4 21.41c.39.39.9.59 1.41.59.51 0 1.02-.2 1.41-.59l7.78-7.78 2.81-2.81c.8-.78.8-2.07 0-2.86zM5.41 20L4 18.59l7.72-7.72 1.47 1.35L5.41 20z\"/>\n",
              "  </svg>\n",
              "      </button>\n",
              "      \n",
              "  <style>\n",
              "    .colab-df-container {\n",
              "      display:flex;\n",
              "      flex-wrap:wrap;\n",
              "      gap: 12px;\n",
              "    }\n",
              "\n",
              "    .colab-df-convert {\n",
              "      background-color: #E8F0FE;\n",
              "      border: none;\n",
              "      border-radius: 50%;\n",
              "      cursor: pointer;\n",
              "      display: none;\n",
              "      fill: #1967D2;\n",
              "      height: 32px;\n",
              "      padding: 0 0 0 0;\n",
              "      width: 32px;\n",
              "    }\n",
              "\n",
              "    .colab-df-convert:hover {\n",
              "      background-color: #E2EBFA;\n",
              "      box-shadow: 0px 1px 2px rgba(60, 64, 67, 0.3), 0px 1px 3px 1px rgba(60, 64, 67, 0.15);\n",
              "      fill: #174EA6;\n",
              "    }\n",
              "\n",
              "    [theme=dark] .colab-df-convert {\n",
              "      background-color: #3B4455;\n",
              "      fill: #D2E3FC;\n",
              "    }\n",
              "\n",
              "    [theme=dark] .colab-df-convert:hover {\n",
              "      background-color: #434B5C;\n",
              "      box-shadow: 0px 1px 3px 1px rgba(0, 0, 0, 0.15);\n",
              "      filter: drop-shadow(0px 1px 2px rgba(0, 0, 0, 0.3));\n",
              "      fill: #FFFFFF;\n",
              "    }\n",
              "  </style>\n",
              "\n",
              "      <script>\n",
              "        const buttonEl =\n",
              "          document.querySelector('#df-f277ae4a-8497-4a7e-aa09-e148515654a5 button.colab-df-convert');\n",
              "        buttonEl.style.display =\n",
              "          google.colab.kernel.accessAllowed ? 'block' : 'none';\n",
              "\n",
              "        async function convertToInteractive(key) {\n",
              "          const element = document.querySelector('#df-f277ae4a-8497-4a7e-aa09-e148515654a5');\n",
              "          const dataTable =\n",
              "            await google.colab.kernel.invokeFunction('convertToInteractive',\n",
              "                                                     [key], {});\n",
              "          if (!dataTable) return;\n",
              "\n",
              "          const docLinkHtml = 'Like what you see? Visit the ' +\n",
              "            '<a target=\"_blank\" href=https://colab.research.google.com/notebooks/data_table.ipynb>data table notebook</a>'\n",
              "            + ' to learn more about interactive tables.';\n",
              "          element.innerHTML = '';\n",
              "          dataTable['output_type'] = 'display_data';\n",
              "          await google.colab.output.renderOutput(dataTable, element);\n",
              "          const docLink = document.createElement('div');\n",
              "          docLink.innerHTML = docLinkHtml;\n",
              "          element.appendChild(docLink);\n",
              "        }\n",
              "      </script>\n",
              "    </div>\n",
              "  </div>\n",
              "  "
            ]
          },
          "metadata": {},
          "execution_count": 60
        }
      ]
    },
    {
      "cell_type": "code",
      "source": [
        " all = {\"facebookBart\":res2,\"Cross-encoder\":res3, \"navtecaMNLI\":res4}\n",
        " all"
      ],
      "metadata": {
        "colab": {
          "base_uri": "https://localhost:8080/"
        },
        "id": "ajc5whUQlAQm",
        "outputId": "ad7681ac-157a-457c-b0db-64c48feaef81"
      },
      "execution_count": null,
      "outputs": [
        {
          "output_type": "execute_result",
          "data": {
            "text/plain": [
              "{'Cross-encoder': {'labels': ['Technology', 'Business', 'Sports', 'Politics'],\n",
              "  'scores': [0.46189379692077637,\n",
              "   0.26921308040618896,\n",
              "   0.1429949402809143,\n",
              "   0.12589816749095917],\n",
              "  'sequence': 'Facebook-parent Meta has sued Turkey-based individual, Ekrem Ateş, for using automated Instagram accounts to scrape data from the profiles of over 3.5 lakh Instagram users. The individual later published that data on a series of clone sites. Meta has also sued Octopus, a US subsidiary of a Chinese firm, that offers data scraping-for-hire services to individuals and companies.'},\n",
              " 'facebookBart': {'labels': ['Technology', 'Business', 'Politics', 'Sports'],\n",
              "  'scores': [0.4309980273246765,\n",
              "   0.3726717233657837,\n",
              "   0.11859836429357529,\n",
              "   0.07773187011480331],\n",
              "  'sequence': 'Facebook-parent Meta has sued Turkey-based individual, Ekrem Ateş, for using automated Instagram accounts to scrape data from the profiles of over 3.5 lakh Instagram users. The individual later published that data on a series of clone sites. Meta has also sued Octopus, a US subsidiary of a Chinese firm, that offers data scraping-for-hire services to individuals and companies.'},\n",
              " 'navtecaMNLI': {'labels': ['Technology', 'Business', 'Politics', 'Sports'],\n",
              "  'scores': [0.4309980273246765,\n",
              "   0.3726717233657837,\n",
              "   0.11859836429357529,\n",
              "   0.07773187011480331],\n",
              "  'sequence': 'Facebook-parent Meta has sued Turkey-based individual, Ekrem Ateş, for using automated Instagram accounts to scrape data from the profiles of over 3.5 lakh Instagram users. The individual later published that data on a series of clone sites. Meta has also sued Octopus, a US subsidiary of a Chinese firm, that offers data scraping-for-hire services to individuals and companies.'}}"
            ]
          },
          "metadata": {},
          "execution_count": 61
        }
      ]
    },
    {
      "cell_type": "code",
      "source": [
        "comp = pd.DataFrame(all)\n",
        "comp"
      ],
      "metadata": {
        "colab": {
          "base_uri": "https://localhost:8080/",
          "height": 274
        },
        "id": "yUUBJK_6rc3I",
        "outputId": "8d56366a-9f85-47d4-e634-1d5ee453102e"
      },
      "execution_count": null,
      "outputs": [
        {
          "output_type": "execute_result",
          "data": {
            "text/plain": [
              "                                               facebookBart  \\\n",
              "sequence  Facebook-parent Meta has sued Turkey-based ind...   \n",
              "labels             [Technology, Business, Politics, Sports]   \n",
              "scores    [0.4309980273246765, 0.3726717233657837, 0.118...   \n",
              "\n",
              "                                              Cross-encoder  \\\n",
              "sequence  Facebook-parent Meta has sued Turkey-based ind...   \n",
              "labels             [Technology, Business, Sports, Politics]   \n",
              "scores    [0.46189379692077637, 0.26921308040618896, 0.1...   \n",
              "\n",
              "                                                navtecaMNLI  \n",
              "sequence  Facebook-parent Meta has sued Turkey-based ind...  \n",
              "labels             [Technology, Business, Politics, Sports]  \n",
              "scores    [0.4309980273246765, 0.3726717233657837, 0.118...  "
            ],
            "text/html": [
              "\n",
              "  <div id=\"df-8bf07982-4780-4166-bf0e-c0489544abba\">\n",
              "    <div class=\"colab-df-container\">\n",
              "      <div>\n",
              "<style scoped>\n",
              "    .dataframe tbody tr th:only-of-type {\n",
              "        vertical-align: middle;\n",
              "    }\n",
              "\n",
              "    .dataframe tbody tr th {\n",
              "        vertical-align: top;\n",
              "    }\n",
              "\n",
              "    .dataframe thead th {\n",
              "        text-align: right;\n",
              "    }\n",
              "</style>\n",
              "<table border=\"1\" class=\"dataframe\">\n",
              "  <thead>\n",
              "    <tr style=\"text-align: right;\">\n",
              "      <th></th>\n",
              "      <th>facebookBart</th>\n",
              "      <th>Cross-encoder</th>\n",
              "      <th>navtecaMNLI</th>\n",
              "    </tr>\n",
              "  </thead>\n",
              "  <tbody>\n",
              "    <tr>\n",
              "      <th>sequence</th>\n",
              "      <td>Facebook-parent Meta has sued Turkey-based ind...</td>\n",
              "      <td>Facebook-parent Meta has sued Turkey-based ind...</td>\n",
              "      <td>Facebook-parent Meta has sued Turkey-based ind...</td>\n",
              "    </tr>\n",
              "    <tr>\n",
              "      <th>labels</th>\n",
              "      <td>[Technology, Business, Politics, Sports]</td>\n",
              "      <td>[Technology, Business, Sports, Politics]</td>\n",
              "      <td>[Technology, Business, Politics, Sports]</td>\n",
              "    </tr>\n",
              "    <tr>\n",
              "      <th>scores</th>\n",
              "      <td>[0.4309980273246765, 0.3726717233657837, 0.118...</td>\n",
              "      <td>[0.46189379692077637, 0.26921308040618896, 0.1...</td>\n",
              "      <td>[0.4309980273246765, 0.3726717233657837, 0.118...</td>\n",
              "    </tr>\n",
              "  </tbody>\n",
              "</table>\n",
              "</div>\n",
              "      <button class=\"colab-df-convert\" onclick=\"convertToInteractive('df-8bf07982-4780-4166-bf0e-c0489544abba')\"\n",
              "              title=\"Convert this dataframe to an interactive table.\"\n",
              "              style=\"display:none;\">\n",
              "        \n",
              "  <svg xmlns=\"http://www.w3.org/2000/svg\" height=\"24px\"viewBox=\"0 0 24 24\"\n",
              "       width=\"24px\">\n",
              "    <path d=\"M0 0h24v24H0V0z\" fill=\"none\"/>\n",
              "    <path d=\"M18.56 5.44l.94 2.06.94-2.06 2.06-.94-2.06-.94-.94-2.06-.94 2.06-2.06.94zm-11 1L8.5 8.5l.94-2.06 2.06-.94-2.06-.94L8.5 2.5l-.94 2.06-2.06.94zm10 10l.94 2.06.94-2.06 2.06-.94-2.06-.94-.94-2.06-.94 2.06-2.06.94z\"/><path d=\"M17.41 7.96l-1.37-1.37c-.4-.4-.92-.59-1.43-.59-.52 0-1.04.2-1.43.59L10.3 9.45l-7.72 7.72c-.78.78-.78 2.05 0 2.83L4 21.41c.39.39.9.59 1.41.59.51 0 1.02-.2 1.41-.59l7.78-7.78 2.81-2.81c.8-.78.8-2.07 0-2.86zM5.41 20L4 18.59l7.72-7.72 1.47 1.35L5.41 20z\"/>\n",
              "  </svg>\n",
              "      </button>\n",
              "      \n",
              "  <style>\n",
              "    .colab-df-container {\n",
              "      display:flex;\n",
              "      flex-wrap:wrap;\n",
              "      gap: 12px;\n",
              "    }\n",
              "\n",
              "    .colab-df-convert {\n",
              "      background-color: #E8F0FE;\n",
              "      border: none;\n",
              "      border-radius: 50%;\n",
              "      cursor: pointer;\n",
              "      display: none;\n",
              "      fill: #1967D2;\n",
              "      height: 32px;\n",
              "      padding: 0 0 0 0;\n",
              "      width: 32px;\n",
              "    }\n",
              "\n",
              "    .colab-df-convert:hover {\n",
              "      background-color: #E2EBFA;\n",
              "      box-shadow: 0px 1px 2px rgba(60, 64, 67, 0.3), 0px 1px 3px 1px rgba(60, 64, 67, 0.15);\n",
              "      fill: #174EA6;\n",
              "    }\n",
              "\n",
              "    [theme=dark] .colab-df-convert {\n",
              "      background-color: #3B4455;\n",
              "      fill: #D2E3FC;\n",
              "    }\n",
              "\n",
              "    [theme=dark] .colab-df-convert:hover {\n",
              "      background-color: #434B5C;\n",
              "      box-shadow: 0px 1px 3px 1px rgba(0, 0, 0, 0.15);\n",
              "      filter: drop-shadow(0px 1px 2px rgba(0, 0, 0, 0.3));\n",
              "      fill: #FFFFFF;\n",
              "    }\n",
              "  </style>\n",
              "\n",
              "      <script>\n",
              "        const buttonEl =\n",
              "          document.querySelector('#df-8bf07982-4780-4166-bf0e-c0489544abba button.colab-df-convert');\n",
              "        buttonEl.style.display =\n",
              "          google.colab.kernel.accessAllowed ? 'block' : 'none';\n",
              "\n",
              "        async function convertToInteractive(key) {\n",
              "          const element = document.querySelector('#df-8bf07982-4780-4166-bf0e-c0489544abba');\n",
              "          const dataTable =\n",
              "            await google.colab.kernel.invokeFunction('convertToInteractive',\n",
              "                                                     [key], {});\n",
              "          if (!dataTable) return;\n",
              "\n",
              "          const docLinkHtml = 'Like what you see? Visit the ' +\n",
              "            '<a target=\"_blank\" href=https://colab.research.google.com/notebooks/data_table.ipynb>data table notebook</a>'\n",
              "            + ' to learn more about interactive tables.';\n",
              "          element.innerHTML = '';\n",
              "          dataTable['output_type'] = 'display_data';\n",
              "          await google.colab.output.renderOutput(dataTable, element);\n",
              "          const docLink = document.createElement('div');\n",
              "          docLink.innerHTML = docLinkHtml;\n",
              "          element.appendChild(docLink);\n",
              "        }\n",
              "      </script>\n",
              "    </div>\n",
              "  </div>\n",
              "  "
            ]
          },
          "metadata": {},
          "execution_count": 62
        }
      ]
    },
    {
      "cell_type": "markdown",
      "source": [
        "## Sentiment analysis with zero shot ML"
      ],
      "metadata": {
        "id": "MQ98fzbz6bxz"
      }
    },
    {
      "cell_type": "code",
      "source": [
        "text1 = \" After a week of use, inside is like river Nile !!! Not at all water resistant. I gifted this to my father. Eventually ended up with the droplets of disappointment!!! :(\"\n",
        "emotions = [\"happy\",\"sad\",\"surprise\",\"anger\",\"fear\",\"guilt\"]\n",
        "classifier2(text1,emotions)"
      ],
      "metadata": {
        "colab": {
          "base_uri": "https://localhost:8080/"
        },
        "id": "ASex8M3d6jlt",
        "outputId": "167ee90d-ef66-4da2-d070-1ca087f3c28f"
      },
      "execution_count": null,
      "outputs": [
        {
          "output_type": "execute_result",
          "data": {
            "text/plain": [
              "{'labels': ['sad', 'surprise', 'fear', 'guilt', 'anger', 'happy'],\n",
              " 'scores': [0.8387650847434998,\n",
              "  0.07580766826868057,\n",
              "  0.035053595900535583,\n",
              "  0.02630739100277424,\n",
              "  0.01859849877655506,\n",
              "  0.005467718932777643],\n",
              " 'sequence': ' After a week of use, inside is like river Nile !!! Not at all water resistant. I gifted this to my father. Eventually ended up with the droplets of disappointment!!! :('}"
            ]
          },
          "metadata": {},
          "execution_count": 63
        }
      ]
    },
    {
      "cell_type": "markdown",
      "source": [
        "### Flair Implementation"
      ],
      "metadata": {
        "id": "zKi_n5Cf4Ed4"
      }
    },
    {
      "cell_type": "code",
      "source": [
        "!pip install flair"
      ],
      "metadata": {
        "colab": {
          "base_uri": "https://localhost:8080/"
        },
        "id": "G6Gj-ym8r9vg",
        "outputId": "ade22325-91e7-461e-90d4-ac15bf982fc5"
      },
      "execution_count": null,
      "outputs": [
        {
          "output_type": "stream",
          "name": "stdout",
          "text": [
            "Looking in indexes: https://pypi.org/simple, https://us-python.pkg.dev/colab-wheels/public/simple/\n",
            "Requirement already satisfied: flair in /usr/local/lib/python3.7/dist-packages (0.11.3)\n",
            "Requirement already satisfied: pptree in /usr/local/lib/python3.7/dist-packages (from flair) (3.1)\n",
            "Requirement already satisfied: conllu>=4.0 in /usr/local/lib/python3.7/dist-packages (from flair) (4.4.2)\n",
            "Requirement already satisfied: gensim>=3.4.0 in /usr/local/lib/python3.7/dist-packages (from flair) (3.6.0)\n",
            "Requirement already satisfied: langdetect in /usr/local/lib/python3.7/dist-packages (from flair) (1.0.9)\n",
            "Requirement already satisfied: konoha<5.0.0,>=4.0.0 in /usr/local/lib/python3.7/dist-packages (from flair) (4.6.5)\n",
            "Requirement already satisfied: more-itertools in /usr/local/lib/python3.7/dist-packages (from flair) (8.13.0)\n",
            "Requirement already satisfied: tqdm>=4.26.0 in /usr/local/lib/python3.7/dist-packages (from flair) (4.64.0)\n",
            "Requirement already satisfied: torch!=1.8,>=1.5.0 in /usr/local/lib/python3.7/dist-packages (from flair) (1.11.0+cu113)\n",
            "Requirement already satisfied: python-dateutil>=2.6.1 in /usr/local/lib/python3.7/dist-packages (from flair) (2.8.2)\n",
            "Requirement already satisfied: deprecated>=1.2.4 in /usr/local/lib/python3.7/dist-packages (from flair) (1.2.13)\n",
            "Requirement already satisfied: regex in /usr/local/lib/python3.7/dist-packages (from flair) (2022.6.2)\n",
            "Requirement already satisfied: transformers>=4.0.0 in /usr/local/lib/python3.7/dist-packages (from flair) (4.20.1)\n",
            "Requirement already satisfied: bpemb>=0.3.2 in /usr/local/lib/python3.7/dist-packages (from flair) (0.3.3)\n",
            "Requirement already satisfied: lxml in /usr/local/lib/python3.7/dist-packages (from flair) (4.2.6)\n",
            "Requirement already satisfied: ftfy in /usr/local/lib/python3.7/dist-packages (from flair) (6.1.1)\n",
            "Requirement already satisfied: mpld3==0.3 in /usr/local/lib/python3.7/dist-packages (from flair) (0.3)\n",
            "Requirement already satisfied: matplotlib>=2.2.3 in /usr/local/lib/python3.7/dist-packages (from flair) (3.2.2)\n",
            "Requirement already satisfied: janome in /usr/local/lib/python3.7/dist-packages (from flair) (0.4.2)\n",
            "Requirement already satisfied: sqlitedict>=1.6.0 in /usr/local/lib/python3.7/dist-packages (from flair) (2.0.0)\n",
            "Requirement already satisfied: segtok>=1.5.7 in /usr/local/lib/python3.7/dist-packages (from flair) (1.5.11)\n",
            "Requirement already satisfied: sentencepiece==0.1.95 in /usr/local/lib/python3.7/dist-packages (from flair) (0.1.95)\n",
            "Requirement already satisfied: huggingface-hub in /usr/local/lib/python3.7/dist-packages (from flair) (0.8.1)\n",
            "Requirement already satisfied: gdown==4.4.0 in /usr/local/lib/python3.7/dist-packages (from flair) (4.4.0)\n",
            "Requirement already satisfied: wikipedia-api in /usr/local/lib/python3.7/dist-packages (from flair) (0.5.4)\n",
            "Requirement already satisfied: scikit-learn>=0.21.3 in /usr/local/lib/python3.7/dist-packages (from flair) (1.0.2)\n",
            "Requirement already satisfied: hyperopt>=0.2.7 in /usr/local/lib/python3.7/dist-packages (from flair) (0.2.7)\n",
            "Requirement already satisfied: tabulate in /usr/local/lib/python3.7/dist-packages (from flair) (0.8.9)\n",
            "Requirement already satisfied: six in /usr/local/lib/python3.7/dist-packages (from gdown==4.4.0->flair) (1.15.0)\n",
            "Requirement already satisfied: filelock in /usr/local/lib/python3.7/dist-packages (from gdown==4.4.0->flair) (3.7.1)\n",
            "Requirement already satisfied: beautifulsoup4 in /usr/local/lib/python3.7/dist-packages (from gdown==4.4.0->flair) (4.6.3)\n",
            "Requirement already satisfied: requests[socks] in /usr/local/lib/python3.7/dist-packages (from gdown==4.4.0->flair) (2.28.1)\n",
            "Requirement already satisfied: numpy in /usr/local/lib/python3.7/dist-packages (from bpemb>=0.3.2->flair) (1.21.6)\n",
            "Requirement already satisfied: wrapt<2,>=1.10 in /usr/local/lib/python3.7/dist-packages (from deprecated>=1.2.4->flair) (1.14.1)\n",
            "Requirement already satisfied: scipy>=0.18.1 in /usr/local/lib/python3.7/dist-packages (from gensim>=3.4.0->flair) (1.4.1)\n",
            "Requirement already satisfied: smart-open>=1.2.1 in /usr/local/lib/python3.7/dist-packages (from gensim>=3.4.0->flair) (5.2.1)\n",
            "Requirement already satisfied: py4j in /usr/local/lib/python3.7/dist-packages (from hyperopt>=0.2.7->flair) (0.10.9.5)\n",
            "Requirement already satisfied: cloudpickle in /usr/local/lib/python3.7/dist-packages (from hyperopt>=0.2.7->flair) (1.3.0)\n",
            "Requirement already satisfied: networkx>=2.2 in /usr/local/lib/python3.7/dist-packages (from hyperopt>=0.2.7->flair) (2.6.3)\n",
            "Requirement already satisfied: future in /usr/local/lib/python3.7/dist-packages (from hyperopt>=0.2.7->flair) (0.16.0)\n",
            "Requirement already satisfied: importlib-metadata<4.0.0,>=3.7.0 in /usr/local/lib/python3.7/dist-packages (from konoha<5.0.0,>=4.0.0->flair) (3.10.1)\n",
            "Requirement already satisfied: overrides<4.0.0,>=3.0.0 in /usr/local/lib/python3.7/dist-packages (from konoha<5.0.0,>=4.0.0->flair) (3.1.0)\n",
            "Requirement already satisfied: typing-extensions>=3.6.4 in /usr/local/lib/python3.7/dist-packages (from importlib-metadata<4.0.0,>=3.7.0->konoha<5.0.0,>=4.0.0->flair) (4.1.1)\n",
            "Requirement already satisfied: zipp>=0.5 in /usr/local/lib/python3.7/dist-packages (from importlib-metadata<4.0.0,>=3.7.0->konoha<5.0.0,>=4.0.0->flair) (3.8.0)\n",
            "Requirement already satisfied: cycler>=0.10 in /usr/local/lib/python3.7/dist-packages (from matplotlib>=2.2.3->flair) (0.11.0)\n",
            "Requirement already satisfied: kiwisolver>=1.0.1 in /usr/local/lib/python3.7/dist-packages (from matplotlib>=2.2.3->flair) (1.4.3)\n",
            "Requirement already satisfied: pyparsing!=2.0.4,!=2.1.2,!=2.1.6,>=2.0.1 in /usr/local/lib/python3.7/dist-packages (from matplotlib>=2.2.3->flair) (3.0.9)\n",
            "Requirement already satisfied: certifi>=2017.4.17 in /usr/local/lib/python3.7/dist-packages (from requests[socks]->gdown==4.4.0->flair) (2022.6.15)\n",
            "Requirement already satisfied: charset-normalizer<3,>=2 in /usr/local/lib/python3.7/dist-packages (from requests[socks]->gdown==4.4.0->flair) (2.0.12)\n",
            "Requirement already satisfied: idna<4,>=2.5 in /usr/local/lib/python3.7/dist-packages (from requests[socks]->gdown==4.4.0->flair) (2.10)\n",
            "Requirement already satisfied: urllib3<1.27,>=1.21.1 in /usr/local/lib/python3.7/dist-packages (from requests[socks]->gdown==4.4.0->flair) (1.24.3)\n",
            "Requirement already satisfied: joblib>=0.11 in /usr/local/lib/python3.7/dist-packages (from scikit-learn>=0.21.3->flair) (1.1.0)\n",
            "Requirement already satisfied: threadpoolctl>=2.0.0 in /usr/local/lib/python3.7/dist-packages (from scikit-learn>=0.21.3->flair) (3.1.0)\n",
            "Requirement already satisfied: packaging>=20.0 in /usr/local/lib/python3.7/dist-packages (from transformers>=4.0.0->flair) (21.3)\n",
            "Requirement already satisfied: pyyaml>=5.1 in /usr/local/lib/python3.7/dist-packages (from transformers>=4.0.0->flair) (6.0)\n",
            "Requirement already satisfied: tokenizers!=0.11.3,<0.13,>=0.11.1 in /usr/local/lib/python3.7/dist-packages (from transformers>=4.0.0->flair) (0.12.1)\n",
            "Requirement already satisfied: wcwidth>=0.2.5 in /usr/local/lib/python3.7/dist-packages (from ftfy->flair) (0.2.5)\n",
            "Requirement already satisfied: PySocks!=1.5.7,>=1.5.6 in /usr/local/lib/python3.7/dist-packages (from requests[socks]->gdown==4.4.0->flair) (1.7.1)\n"
          ]
        }
      ]
    },
    {
      "cell_type": "code",
      "source": [
        "from flair.models import TARSClassifier\n",
        "classifier5 = TARSClassifier.load(\"tars-base\")\n",
        "from flair.data import Sentence\n",
        "sentence = Sentence(\"It's ok. Its took few minutes for initialization. My package was opened below when I recieved. And was taped again. I asked why it is open. During travel it happened they said. But the inner one pack seal was intact. No problem.\")\n",
        "classes = [\"happy\", \"sad\"]\n",
        "classifier5.predict_zero_shot(sentence, classes)"
      ],
      "metadata": {
        "id": "Prv9j_0MEs5G",
        "colab": {
          "base_uri": "https://localhost:8080/"
        },
        "outputId": "6cda8141-2620-4e0a-96c2-2fb0fb1f8b10"
      },
      "execution_count": null,
      "outputs": [
        {
          "output_type": "stream",
          "name": "stdout",
          "text": [
            "2022-07-06 10:46:22,794 loading file /root/.flair/models/tars-base-v8.pt\n"
          ]
        }
      ]
    },
    {
      "cell_type": "markdown",
      "source": [
        "##PyTorch"
      ],
      "metadata": {
        "id": "UZIC2S3cPhJE"
      }
    },
    {
      "cell_type": "code",
      "source": [
        "tokenizer = AutoTokenizer.from_pretrained(\"distilbert-base-uncased-finetuned-sst-2-english\")\n",
        "model = AutoModelForSequenceClassification.from_pretrained(\"distilbert-base-uncased-finetuned-sst-2-english\")\n",
        "x_train = [\"It's a great product\",\"Stopped working in a few days\"]\n",
        "batch = tokenizer(x_train, padding=True, truncation=True,max_length = 512, return_tensors = \"pt\")\n",
        "print(batch)"
      ],
      "metadata": {
        "colab": {
          "base_uri": "https://localhost:8080/"
        },
        "id": "kiEogTbSFsTE",
        "outputId": "026257a5-3f9b-4706-b7ed-f460a0b89d9c"
      },
      "execution_count": null,
      "outputs": [
        {
          "output_type": "stream",
          "name": "stdout",
          "text": [
            "{'input_ids': tensor([[ 101, 2009, 1005, 1055, 1037, 2307, 4031,  102],\n",
            "        [ 101, 3030, 2551, 1999, 1037, 2261, 2420,  102]]), 'attention_mask': tensor([[1, 1, 1, 1, 1, 1, 1, 1],\n",
            "        [1, 1, 1, 1, 1, 1, 1, 1]])}\n"
          ]
        }
      ]
    },
    {
      "cell_type": "code",
      "source": [
        "with torch.no_grad():\n",
        "  outputs = model(**batch)\n",
        "  label_ids = torch.argmax(outputs.logits, dim = 1)\n",
        "  print(label_ids)\n",
        "  labels = [model.config.id2label[label_id] for label_id in label_ids.tolist()]\n",
        "  print(labels)"
      ],
      "metadata": {
        "colab": {
          "base_uri": "https://localhost:8080/"
        },
        "id": "ZmMZO5oaSwDz",
        "outputId": "94f4cb3e-0140-4400-d609-f5af5e1be22e"
      },
      "execution_count": null,
      "outputs": [
        {
          "output_type": "stream",
          "name": "stdout",
          "text": [
            "tensor([1, 0])\n",
            "['POSITIVE', 'NEGATIVE']\n"
          ]
        }
      ]
    },
    {
      "cell_type": "code",
      "source": [
        ""
      ],
      "metadata": {
        "id": "fRwI57-ETnsz"
      },
      "execution_count": null,
      "outputs": []
    }
  ]
}